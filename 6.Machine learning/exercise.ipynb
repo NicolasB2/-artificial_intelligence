{
 "cells": [
  {
   "cell_type": "markdown",
   "metadata": {},
   "source": [
    "# MNIST with machine learning\n",
    "\n",
    "In this exercise we will give MNIST digits another try, but this time we will apply what we've learnt about machine learning algorithms. The idea is to correctly estimate the best parameter(s) for an algorithm in order to get the highest accuracy. At the end of this exercise you will upload your results to [this Kaggle contest](https://www.kaggle.com/c/digit-recognizer)."
   ]
  },
  {
   "cell_type": "markdown",
   "metadata": {},
   "source": [
    "## Loading the dataset\n",
    "\n",
    "Here we will load the Kaggle training set and test set. The training is a CSV with 42000 rows and 785 columns (28x28 pixels + 1 label), while the test set has 28000 rows and 784 columns. The test set in this exercise is used only for submission to Kaggle, which means you will have to do cross-validation on only the training set."
   ]
  },
  {
   "cell_type": "code",
   "execution_count": 2,
   "metadata": {},
   "outputs": [],
   "source": [
    "import pandas as pd\n",
    "\n",
    "data = pd.read_csv(\"train.csv\")\n",
    "test_data = pd.read_csv(\"test.csv\")"
   ]
  },
  {
   "cell_type": "markdown",
   "metadata": {},
   "source": [
    "We visualize training data and its types."
   ]
  },
  {
   "cell_type": "code",
   "execution_count": 3,
   "metadata": {},
   "outputs": [
    {
     "name": "stdout",
     "output_type": "stream",
     "text": [
      "label       int64\n",
      "pixel0      int64\n",
      "pixel1      int64\n",
      "pixel2      int64\n",
      "pixel3      int64\n",
      "pixel4      int64\n",
      "pixel5      int64\n",
      "pixel6      int64\n",
      "pixel7      int64\n",
      "pixel8      int64\n",
      "pixel9      int64\n",
      "pixel10     int64\n",
      "pixel11     int64\n",
      "pixel12     int64\n",
      "pixel13     int64\n",
      "pixel14     int64\n",
      "pixel15     int64\n",
      "pixel16     int64\n",
      "pixel17     int64\n",
      "pixel18     int64\n",
      "pixel19     int64\n",
      "pixel20     int64\n",
      "pixel21     int64\n",
      "pixel22     int64\n",
      "pixel23     int64\n",
      "pixel24     int64\n",
      "pixel25     int64\n",
      "pixel26     int64\n",
      "pixel27     int64\n",
      "pixel28     int64\n",
      "            ...  \n",
      "pixel754    int64\n",
      "pixel755    int64\n",
      "pixel756    int64\n",
      "pixel757    int64\n",
      "pixel758    int64\n",
      "pixel759    int64\n",
      "pixel760    int64\n",
      "pixel761    int64\n",
      "pixel762    int64\n",
      "pixel763    int64\n",
      "pixel764    int64\n",
      "pixel765    int64\n",
      "pixel766    int64\n",
      "pixel767    int64\n",
      "pixel768    int64\n",
      "pixel769    int64\n",
      "pixel770    int64\n",
      "pixel771    int64\n",
      "pixel772    int64\n",
      "pixel773    int64\n",
      "pixel774    int64\n",
      "pixel775    int64\n",
      "pixel776    int64\n",
      "pixel777    int64\n",
      "pixel778    int64\n",
      "pixel779    int64\n",
      "pixel780    int64\n",
      "pixel781    int64\n",
      "pixel782    int64\n",
      "pixel783    int64\n",
      "Length: 785, dtype: object\n"
     ]
    },
    {
     "data": {
      "text/html": [
       "<div>\n",
       "<style scoped>\n",
       "    .dataframe tbody tr th:only-of-type {\n",
       "        vertical-align: middle;\n",
       "    }\n",
       "\n",
       "    .dataframe tbody tr th {\n",
       "        vertical-align: top;\n",
       "    }\n",
       "\n",
       "    .dataframe thead th {\n",
       "        text-align: right;\n",
       "    }\n",
       "</style>\n",
       "<table border=\"1\" class=\"dataframe\">\n",
       "  <thead>\n",
       "    <tr style=\"text-align: right;\">\n",
       "      <th></th>\n",
       "      <th>label</th>\n",
       "      <th>pixel0</th>\n",
       "      <th>pixel1</th>\n",
       "      <th>pixel2</th>\n",
       "      <th>pixel3</th>\n",
       "      <th>pixel4</th>\n",
       "      <th>pixel5</th>\n",
       "      <th>pixel6</th>\n",
       "      <th>pixel7</th>\n",
       "      <th>pixel8</th>\n",
       "      <th>...</th>\n",
       "      <th>pixel774</th>\n",
       "      <th>pixel775</th>\n",
       "      <th>pixel776</th>\n",
       "      <th>pixel777</th>\n",
       "      <th>pixel778</th>\n",
       "      <th>pixel779</th>\n",
       "      <th>pixel780</th>\n",
       "      <th>pixel781</th>\n",
       "      <th>pixel782</th>\n",
       "      <th>pixel783</th>\n",
       "    </tr>\n",
       "  </thead>\n",
       "  <tbody>\n",
       "    <tr>\n",
       "      <th>0</th>\n",
       "      <td>1</td>\n",
       "      <td>0</td>\n",
       "      <td>0</td>\n",
       "      <td>0</td>\n",
       "      <td>0</td>\n",
       "      <td>0</td>\n",
       "      <td>0</td>\n",
       "      <td>0</td>\n",
       "      <td>0</td>\n",
       "      <td>0</td>\n",
       "      <td>...</td>\n",
       "      <td>0</td>\n",
       "      <td>0</td>\n",
       "      <td>0</td>\n",
       "      <td>0</td>\n",
       "      <td>0</td>\n",
       "      <td>0</td>\n",
       "      <td>0</td>\n",
       "      <td>0</td>\n",
       "      <td>0</td>\n",
       "      <td>0</td>\n",
       "    </tr>\n",
       "    <tr>\n",
       "      <th>1</th>\n",
       "      <td>0</td>\n",
       "      <td>0</td>\n",
       "      <td>0</td>\n",
       "      <td>0</td>\n",
       "      <td>0</td>\n",
       "      <td>0</td>\n",
       "      <td>0</td>\n",
       "      <td>0</td>\n",
       "      <td>0</td>\n",
       "      <td>0</td>\n",
       "      <td>...</td>\n",
       "      <td>0</td>\n",
       "      <td>0</td>\n",
       "      <td>0</td>\n",
       "      <td>0</td>\n",
       "      <td>0</td>\n",
       "      <td>0</td>\n",
       "      <td>0</td>\n",
       "      <td>0</td>\n",
       "      <td>0</td>\n",
       "      <td>0</td>\n",
       "    </tr>\n",
       "    <tr>\n",
       "      <th>2</th>\n",
       "      <td>1</td>\n",
       "      <td>0</td>\n",
       "      <td>0</td>\n",
       "      <td>0</td>\n",
       "      <td>0</td>\n",
       "      <td>0</td>\n",
       "      <td>0</td>\n",
       "      <td>0</td>\n",
       "      <td>0</td>\n",
       "      <td>0</td>\n",
       "      <td>...</td>\n",
       "      <td>0</td>\n",
       "      <td>0</td>\n",
       "      <td>0</td>\n",
       "      <td>0</td>\n",
       "      <td>0</td>\n",
       "      <td>0</td>\n",
       "      <td>0</td>\n",
       "      <td>0</td>\n",
       "      <td>0</td>\n",
       "      <td>0</td>\n",
       "    </tr>\n",
       "    <tr>\n",
       "      <th>3</th>\n",
       "      <td>4</td>\n",
       "      <td>0</td>\n",
       "      <td>0</td>\n",
       "      <td>0</td>\n",
       "      <td>0</td>\n",
       "      <td>0</td>\n",
       "      <td>0</td>\n",
       "      <td>0</td>\n",
       "      <td>0</td>\n",
       "      <td>0</td>\n",
       "      <td>...</td>\n",
       "      <td>0</td>\n",
       "      <td>0</td>\n",
       "      <td>0</td>\n",
       "      <td>0</td>\n",
       "      <td>0</td>\n",
       "      <td>0</td>\n",
       "      <td>0</td>\n",
       "      <td>0</td>\n",
       "      <td>0</td>\n",
       "      <td>0</td>\n",
       "    </tr>\n",
       "    <tr>\n",
       "      <th>4</th>\n",
       "      <td>0</td>\n",
       "      <td>0</td>\n",
       "      <td>0</td>\n",
       "      <td>0</td>\n",
       "      <td>0</td>\n",
       "      <td>0</td>\n",
       "      <td>0</td>\n",
       "      <td>0</td>\n",
       "      <td>0</td>\n",
       "      <td>0</td>\n",
       "      <td>...</td>\n",
       "      <td>0</td>\n",
       "      <td>0</td>\n",
       "      <td>0</td>\n",
       "      <td>0</td>\n",
       "      <td>0</td>\n",
       "      <td>0</td>\n",
       "      <td>0</td>\n",
       "      <td>0</td>\n",
       "      <td>0</td>\n",
       "      <td>0</td>\n",
       "    </tr>\n",
       "  </tbody>\n",
       "</table>\n",
       "<p>5 rows × 785 columns</p>\n",
       "</div>"
      ],
      "text/plain": [
       "   label  pixel0  pixel1  pixel2  pixel3  pixel4  pixel5  pixel6  pixel7  \\\n",
       "0      1       0       0       0       0       0       0       0       0   \n",
       "1      0       0       0       0       0       0       0       0       0   \n",
       "2      1       0       0       0       0       0       0       0       0   \n",
       "3      4       0       0       0       0       0       0       0       0   \n",
       "4      0       0       0       0       0       0       0       0       0   \n",
       "\n",
       "   pixel8  ...  pixel774  pixel775  pixel776  pixel777  pixel778  pixel779  \\\n",
       "0       0  ...         0         0         0         0         0         0   \n",
       "1       0  ...         0         0         0         0         0         0   \n",
       "2       0  ...         0         0         0         0         0         0   \n",
       "3       0  ...         0         0         0         0         0         0   \n",
       "4       0  ...         0         0         0         0         0         0   \n",
       "\n",
       "   pixel780  pixel781  pixel782  pixel783  \n",
       "0         0         0         0         0  \n",
       "1         0         0         0         0  \n",
       "2         0         0         0         0  \n",
       "3         0         0         0         0  \n",
       "4         0         0         0         0  \n",
       "\n",
       "[5 rows x 785 columns]"
      ]
     },
     "execution_count": 3,
     "metadata": {},
     "output_type": "execute_result"
    }
   ],
   "source": [
    "print(data.dtypes)\n",
    "data.head()"
   ]
  },
  {
   "cell_type": "markdown",
   "metadata": {},
   "source": [
    "We can see that the first column here is the label that indicates the digit of the corresponding pixels. We will change its type to be categorical. "
   ]
  },
  {
   "cell_type": "code",
   "execution_count": 4,
   "metadata": {},
   "outputs": [
    {
     "data": {
      "text/plain": [
       "1    4684\n",
       "7    4401\n",
       "3    4351\n",
       "9    4188\n",
       "2    4177\n",
       "6    4137\n",
       "0    4132\n",
       "4    4072\n",
       "8    4063\n",
       "5    3795\n",
       "Name: label, dtype: int64"
      ]
     },
     "execution_count": 4,
     "metadata": {},
     "output_type": "execute_result"
    }
   ],
   "source": [
    "data.label = data.label.astype(\"category\")\n",
    "data.label.value_counts()"
   ]
  },
  {
   "cell_type": "markdown",
   "metadata": {},
   "source": [
    "We can see that the different labels are somewhat evenly distributed. We can also describe a column to see the different values a pixel can take."
   ]
  },
  {
   "cell_type": "code",
   "execution_count": 5,
   "metadata": {},
   "outputs": [
    {
     "data": {
      "text/plain": [
       "count    42000.000000\n",
       "mean         0.219286\n",
       "std          6.312890\n",
       "min          0.000000\n",
       "25%          0.000000\n",
       "50%          0.000000\n",
       "75%          0.000000\n",
       "max        254.000000\n",
       "Name: pixel774, dtype: float64"
      ]
     },
     "execution_count": 5,
     "metadata": {},
     "output_type": "execute_result"
    }
   ],
   "source": [
    "data.pixel774.describe()"
   ]
  },
  {
   "cell_type": "markdown",
   "metadata": {},
   "source": [
    "## Workshop: Fitting KNN\n",
    "\n",
    "Integrantes (3 max):\n",
    "- Nicolas Biojo \n",
    "- David erazo\n",
    "\n",
    "We will now fit a KNN model to the data, first we split the data to perform stratified cross validation. We have to stratify since the probabilities of each label are slightly different."
   ]
  },
  {
   "cell_type": "markdown",
   "metadata": {},
   "source": [
    "### Splitting the data\n",
    "\n",
    "We will split the data using 20% of it as a **validation** set."
   ]
  },
  {
   "cell_type": "code",
   "execution_count": 6,
   "metadata": {},
   "outputs": [],
   "source": [
    "from sklearn.model_selection import train_test_split\n",
    "\n",
    "data_train_pred, data_test_pred, data_train_label, data_test_label = train_test_split(data.drop(\"label\", axis = 1), data.loc[:,[\"label\"]], test_size = 0.2)"
   ]
  },
  {
   "cell_type": "code",
   "execution_count": 7,
   "metadata": {},
   "outputs": [
    {
     "name": "stdout",
     "output_type": "stream",
     "text": [
      "Train X: 33600\n",
      "Train Y: 33600\n",
      "Test X: 8400\n",
      "Test Y: 8400\n"
     ]
    }
   ],
   "source": [
    "print(f\"Train X: {(len(data_train_pred))}\")\n",
    "print(f\"Train Y: {(len(data_train_label))}\")\n",
    "print(f\"Test X: {(len(data_test_pred))}\")\n",
    "print(f\"Test Y: {(len(data_test_label))}\")"
   ]
  },
  {
   "cell_type": "markdown",
   "metadata": {},
   "source": [
    "### Finding the K\n",
    "\n",
    "Now we will find the K by trying powers of 10 followed by different K's 1000 at a time until an arbitrarilly chosen 30000 neighbors max."
   ]
  },
  {
   "cell_type": "code",
   "execution_count": 8,
   "metadata": {},
   "outputs": [
    {
     "name": "stdout",
     "output_type": "stream",
     "text": [
      "1 Error: 0.03130952380952379\n",
      "2 Error: 0.03642857142857148\n",
      "3 Error: 0.030952380952380953\n",
      "4 Error: 0.030714285714285694\n",
      "5 Error: 0.030000000000000027\n",
      "6 Error: 0.03273809523809523\n",
      "7 Error: 0.0334523809523809\n",
      "8 Error: 0.03369047619047616\n",
      "9 Error: 0.03452380952380951\n"
     ]
    }
   ],
   "source": [
    "from sklearn.neighbors import KNeighborsClassifier\n",
    "ks = list (range(1,10))\n",
    "k_error = []\n",
    "\n",
    "for k in ks:\n",
    "    model = KNeighborsClassifier(n_neighbors=(k)).fit(data_train_pred, data_train_label.values.ravel())\n",
    "    score = model.score(data_test_pred, data_test_label.values.ravel())\n",
    "    k_error.append(1 - score)\n",
    "    \n",
    "    print(\"{} Error: {}\".format(k,1 - score))\n",
    "\n",
    "error_data = pd.DataFrame({\n",
    "    \n",
    "    \"k\": ks,\n",
    "    \"error\": k_error\n",
    "})"
   ]
  },
  {
   "cell_type": "code",
   "execution_count": 10,
   "metadata": {},
   "outputs": [
    {
     "data": {
      "image/png": "[encoded data removed]",
      "text/plain": [
       "<Figure size 432x288 with 1 Axes>"
      ]
     },
     "metadata": {
      "needs_background": "light"
     },
     "output_type": "display_data"
    }
   ],
   "source": [
    "import seaborn as sns\n",
    "\n",
    "_ = sns.lineplot(x = \"k\", y = \"error\", data = error_data)"
   ]
  },
  {
   "cell_type": "markdown",
   "metadata": {},
   "source": [
    "Now we will visualize the error result."
   ]
  },
  {
   "cell_type": "code",
   "execution_count": 11,
   "metadata": {},
   "outputs": [
    {
     "name": "stdout",
     "output_type": "stream",
     "text": [
      "10 Error: 0.035595238095238124\n",
      "20 Error: 0.04261904761904767\n",
      "30 Error: 0.04714285714285715\n",
      "40 Error: 0.05202380952380947\n",
      "50 Error: 0.055714285714285716\n",
      "60 Error: 0.058809523809523756\n",
      "70 Error: 0.06000000000000005\n",
      "80 Error: 0.06297619047619052\n",
      "90 Error: 0.06547619047619047\n",
      "100 Error: 0.0675\n",
      "110 Error: 0.0714285714285714\n",
      "120 Error: 0.07238095238095243\n",
      "130 Error: 0.07404761904761903\n",
      "140 Error: 0.0770238095238095\n",
      "150 Error: 0.07916666666666672\n",
      "160 Error: 0.08011904761904765\n",
      "170 Error: 0.08261904761904759\n",
      "180 Error: 0.08238095238095233\n",
      "190 Error: 0.08404761904761904\n",
      "200 Error: 0.08464285714285713\n",
      "210 Error: 0.08690476190476193\n",
      "220 Error: 0.08892857142857147\n",
      "230 Error: 0.09011904761904765\n",
      "240 Error: 0.09190476190476193\n",
      "250 Error: 0.09297619047619043\n",
      "260 Error: 0.09404761904761905\n",
      "270 Error: 0.09559523809523807\n",
      "280 Error: 0.096547619047619\n",
      "290 Error: 0.09833333333333338\n",
      "300 Error: 0.09952380952380957\n",
      "310 Error: 0.09916666666666663\n",
      "320 Error: 0.10119047619047616\n",
      "330 Error: 0.10166666666666668\n",
      "340 Error: 0.10297619047619044\n",
      "350 Error: 0.10416666666666663\n",
      "360 Error: 0.10595238095238091\n",
      "370 Error: 0.10809523809523813\n",
      "380 Error: 0.10869047619047623\n",
      "390 Error: 0.10976190476190473\n",
      "400 Error: 0.11059523809523808\n",
      "410 Error: 0.11273809523809519\n",
      "420 Error: 0.11345238095238097\n",
      "430 Error: 0.11511904761904757\n",
      "440 Error: 0.11678571428571427\n",
      "450 Error: 0.11738095238095236\n",
      "460 Error: 0.11857142857142855\n",
      "470 Error: 0.11976190476190474\n",
      "480 Error: 0.12095238095238092\n",
      "490 Error: 0.12130952380952376\n",
      "500 Error: 0.12285714285714289\n",
      "510 Error: 0.12369047619047624\n",
      "520 Error: 0.12464285714285717\n",
      "530 Error: 0.1255952380952381\n",
      "540 Error: 0.12571428571428567\n",
      "550 Error: 0.12738095238095237\n",
      "560 Error: 0.12845238095238098\n",
      "570 Error: 0.12880952380952382\n",
      "580 Error: 0.13035714285714284\n",
      "590 Error: 0.13130952380952376\n",
      "600 Error: 0.13202380952380954\n",
      "610 Error: 0.1327380952380952\n",
      "620 Error: 0.13380952380952382\n",
      "630 Error: 0.13488095238095243\n",
      "640 Error: 0.13630952380952377\n",
      "650 Error: 0.1372619047619048\n",
      "660 Error: 0.13857142857142857\n",
      "670 Error: 0.1395238095238095\n",
      "680 Error: 0.14095238095238094\n",
      "690 Error: 0.14202380952380955\n",
      "700 Error: 0.14273809523809522\n",
      "710 Error: 0.14309523809523805\n",
      "720 Error: 0.14369047619047615\n",
      "730 Error: 0.14464285714285718\n",
      "740 Error: 0.14523809523809528\n",
      "750 Error: 0.1451190476190476\n",
      "760 Error: 0.1466666666666666\n",
      "770 Error: 0.1467857142857143\n",
      "780 Error: 0.14761904761904765\n",
      "790 Error: 0.14833333333333332\n",
      "800 Error: 0.1489285714285714\n",
      "810 Error: 0.1495238095238095\n",
      "820 Error: 0.1507142857142857\n",
      "830 Error: 0.15202380952380956\n",
      "840 Error: 0.1523809523809524\n",
      "850 Error: 0.15309523809523806\n",
      "860 Error: 0.15380952380952384\n",
      "870 Error: 0.15428571428571425\n",
      "880 Error: 0.15547619047619043\n",
      "890 Error: 0.1561904761904762\n",
      "900 Error: 0.15726190476190471\n",
      "910 Error: 0.1579761904761905\n",
      "920 Error: 0.15857142857142859\n",
      "930 Error: 0.15892857142857142\n",
      "940 Error: 0.16000000000000003\n",
      "950 Error: 0.16035714285714286\n",
      "960 Error: 0.16047619047619044\n",
      "970 Error: 0.16142857142857148\n",
      "980 Error: 0.16261904761904766\n",
      "990 Error: 0.1629761904761905\n"
     ]
    }
   ],
   "source": [
    "from sklearn.neighbors import KNeighborsClassifier\n",
    "ks = list (range(10,1000,10))\n",
    "k_error = []\n",
    "\n",
    "for k in ks:\n",
    "    model = KNeighborsClassifier(n_neighbors=(k)).fit(data_train_pred, data_train_label.values.ravel())\n",
    "    score = model.score(data_test_pred, data_test_label.values.ravel())\n",
    "    k_error.append(1 - score)\n",
    "    \n",
    "    print(\"{} Error: {}\".format(k,1 - score))\n",
    "\n",
    "error_data = pd.DataFrame({\n",
    "    \n",
    "    \"k\": ks,\n",
    "    \"error\": k_error\n",
    "})"
   ]
  },
  {
   "cell_type": "code",
   "execution_count": 12,
   "metadata": {},
   "outputs": [
    {
     "data": {
      "image/png": "[encoded data removed]",
      "text/plain": [
       "<Figure size 432x288 with 1 Axes>"
      ]
     },
     "metadata": {
      "needs_background": "light"
     },
     "output_type": "display_data"
    }
   ],
   "source": [
    "import seaborn as sns\n",
    "\n",
    "_ = sns.lineplot(x = \"k\", y = \"error\", data = error_data)"
   ]
  }
 ],
 "metadata": {
  "kernelspec": {
   "display_name": "Python 3",
   "language": "python",
   "name": "python3"
  },
  "language_info": {
   "codemirror_mode": {
    "name": "ipython",
    "version": 3
   },
   "file_extension": ".py",
   "mimetype": "text/x-python",
   "name": "python",
   "nbconvert_exporter": "python",
   "pygments_lexer": "ipython3",
   "version": "3.7.3"
  }
 },
 "nbformat": 4,
 "nbformat_minor": 2
}
