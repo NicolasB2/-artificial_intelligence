{
 "cells": [
  {
   "cell_type": "markdown",
   "metadata": {},
   "source": [
    "# Python Exercises, practice  \n",
    "\n",
    "\n",
    "+ __Student 1:__ David Alejandro Erazo Ochoa\n",
    "+ __Student 2:__ Nicolás Biojo Bermeo"
   ]
  },
  {
   "cell_type": "markdown",
   "metadata": {},
   "source": [
    "__1 exercise__\n",
    "\n",
    "print hello world"
   ]
  },
  {
   "cell_type": "code",
   "execution_count": 1,
   "metadata": {},
   "outputs": [
    {
     "name": "stdout",
     "output_type": "stream",
     "text": [
      "Hello world\n"
     ]
    }
   ],
   "source": [
    "print (\"Hello world\")"
   ]
  },
  {
   "cell_type": "markdown",
   "metadata": {},
   "source": [
    "__2 exercise__\n",
    "\n",
    "Let's create a variable with the name _variable_ and assign it the value \"hello world\"."
   ]
  },
  {
   "cell_type": "code",
   "execution_count": 3,
   "metadata": {},
   "outputs": [],
   "source": [
    "variable = \"hello world\""
   ]
  },
  {
   "cell_type": "markdown",
   "metadata": {},
   "source": [
    "__3 exercise__\n",
    "\n",
    "Print the type of _variable_"
   ]
  },
  {
   "cell_type": "code",
   "execution_count": 4,
   "metadata": {},
   "outputs": [
    {
     "data": {
      "text/plain": [
       "str"
      ]
     },
     "execution_count": 4,
     "metadata": {},
     "output_type": "execute_result"
    }
   ],
   "source": [
    "type(variable)"
   ]
  },
  {
   "cell_type": "markdown",
   "metadata": {},
   "source": [
    "__4 exercise__\n",
    "\n",
    "Let's remove the word \" world\" from _variable_"
   ]
  },
  {
   "cell_type": "code",
   "execution_count": 8,
   "metadata": {},
   "outputs": [
    {
     "name": "stdout",
     "output_type": "stream",
     "text": [
      "hello \n"
     ]
    }
   ],
   "source": [
    "variable = variable.replace(\"world\",\"\")\n",
    "print(variable)"
   ]
  },
  {
   "cell_type": "markdown",
   "metadata": {},
   "source": [
    "__5 exercise__\n",
    "\n",
    "Let's make a function which receives a list of number from 1 to 20 and prints only the number that are odd."
   ]
  },
  {
   "cell_type": "code",
   "execution_count": 22,
   "metadata": {},
   "outputs": [
    {
     "name": "stdout",
     "output_type": "stream",
     "text": [
      "1\n",
      "3\n",
      "5\n",
      "7\n",
      "9\n",
      "11\n",
      "13\n",
      "15\n",
      "17\n",
      "19\n"
     ]
    }
   ],
   "source": [
    "list = [1,2,3,4,5,6,7,8,9,10,11,12,13,14,15,16,17,18,19,20]\n",
    "def receive(list):\n",
    "    for x in list:\n",
    "        if (x%2==1):\n",
    "            print (x)\n",
    "\n",
    "receive(list)\n",
    "    "
   ]
  },
  {
   "cell_type": "markdown",
   "metadata": {},
   "source": [
    "__6 exercise__\n",
    "\n",
    "Let's make a method in a Python file which receives two parameters:\n",
    "\n",
    "+ A list of integers \n",
    "+ An exponent number \n",
    "\n",
    "$b^{n} = b \\times \\dots \\times b$  \n",
    "\n",
    "The method allows us to calculate the exponentiation of each number in the list.\n",
    "\n",
    "We must import the file and use it to call the method"
   ]
  },
  {
   "cell_type": "code",
   "execution_count": 43,
   "metadata": {},
   "outputs": [
    {
     "name": "stdout",
     "output_type": "stream",
     "text": [
      "[9, 25, 49]\n"
     ]
    }
   ],
   "source": [
    "list = [3, 5, 7]\n",
    "\n",
    "def pow_list(some_list,number):\n",
    "    n = [x ** number for x in some_list]\n",
    "    return n\n",
    "\n",
    "print (pow_list(list,2))\n"
   ]
  },
  {
   "cell_type": "markdown",
   "metadata": {},
   "source": [
    "__7 exercise__\n",
    "\n",
    "The idea is to do a dictionary _diccionario_ with the next keys and values:\n",
    "\n",
    "_variableUno_: [1,2,3,4]\n",
    "\n",
    "_variableDos_: [\"1\",\"a\",\"?\"]\n"
   ]
  },
  {
   "cell_type": "code",
   "execution_count": null,
   "metadata": {},
   "outputs": [],
   "source": [
    "dictionario = {'variableUno' : [1,2,3,4] , 'variableDos' : [\"1\",\"a\",\"?\"]}"
   ]
  },
  {
   "cell_type": "markdown",
   "metadata": {},
   "source": [
    "__8 exercise__\n",
    "\n",
    "Change the first letter of \"Spam\" to \"z\" "
   ]
  },
  {
   "cell_type": "code",
   "execution_count": 3,
   "metadata": {},
   "outputs": [
    {
     "data": {
      "text/plain": [
       "'zpam'"
      ]
     },
     "execution_count": 3,
     "metadata": {},
     "output_type": "execute_result"
    }
   ],
   "source": [
    "s = \"Spam\"\n",
    "s.replace(s[0],\"z\")"
   ]
  },
  {
   "cell_type": "markdown",
   "metadata": {},
   "source": [
    "__9 exercise__\n",
    "\n",
    "let's do a program which receives some parameters in order to calculate the perimeter of a rectangle.\n",
    "\n",
    "$p = 2x + 2y$"
   ]
  },
  {
   "cell_type": "code",
   "execution_count": 6,
   "metadata": {},
   "outputs": [
    {
     "data": {
      "text/plain": [
       "10"
      ]
     },
     "execution_count": 6,
     "metadata": {},
     "output_type": "execute_result"
    }
   ],
   "source": [
    "def perimeter(number1,number2):\n",
    "    p = 2*number1 + 2*number2\n",
    "    return p\n",
    "\n",
    "perimeter(2,3)"
   ]
  },
  {
   "cell_type": "markdown",
   "metadata": {},
   "source": [
    "__10 exercise__\n",
    "\n",
    "+ Create a class that saves the name of a person, his height in meters and weights in kilograms.\n",
    "+ This class must have a operation which calculate the Body mass index (BMI).\n",
    "+ Define a list of 5 persons and print their BMI. "
   ]
  },
  {
   "cell_type": "code",
   "execution_count": 14,
   "metadata": {},
   "outputs": [
    {
     "name": "stdout",
     "output_type": "stream",
     "text": [
      "38.888888888888886\n",
      "42.94117647058824\n",
      "40.0\n",
      "50.0\n",
      "44.44444444444444\n"
     ]
    }
   ],
   "source": [
    "class Person():\n",
    "    def __init__(self,name,height,weigths):\n",
    "        self.name    = name\n",
    "        self.height  = height\n",
    "        self.weigths = weigths\n",
    "        \n",
    "    def BMI_calcule(self):\n",
    "        return self.weigths/self.height\n",
    "        \n",
    "p1 = Person(\"Nico\",1.8,70)\n",
    "p2 = Person(\"David\",1.7,73)\n",
    "p3 = Person(\"Daniela\",1.5,60)\n",
    "p4 = Person(\"Sebas\",1.6,80)\n",
    "p5 = Person(\"Juan\",1.8,80)\n",
    "\n",
    "print (p1.BMI_calcule())\n",
    "print (p2.BMI_calcule())\n",
    "print (p3.BMI_calcule())\n",
    "print (p4.BMI_calcule())\n",
    "print (p5.BMI_calcule())"
   ]
  },
  {
   "cell_type": "markdown",
   "metadata": {},
   "source": [
    "__11 exercise__\n",
    "\n",
    "make a program that prints the numbers from 1 to 100\n",
    "If the number is divisible by 2 then print \"whiz\"\n",
    "if the number is divisible by 3 then print \"bang\""
   ]
  },
  {
   "cell_type": "code",
   "execution_count": 34,
   "metadata": {},
   "outputs": [
    {
     "name": "stdout",
     "output_type": "stream",
     "text": [
      "1 \n",
      "2 whiz \n",
      "3 bang\n",
      "4 whiz \n",
      "5 \n",
      "6 whiz bang\n",
      "7 \n",
      "8 whiz \n",
      "9 bang\n",
      "10 whiz \n",
      "11 \n",
      "12 whiz bang\n",
      "13 \n",
      "14 whiz \n",
      "15 bang\n",
      "16 whiz \n",
      "17 \n",
      "18 whiz bang\n",
      "19 \n",
      "20 whiz \n",
      "21 bang\n",
      "22 whiz \n",
      "23 \n",
      "24 whiz bang\n",
      "25 \n",
      "26 whiz \n",
      "27 bang\n",
      "28 whiz \n",
      "29 \n",
      "30 whiz bang\n",
      "31 \n",
      "32 whiz \n",
      "33 bang\n",
      "34 whiz \n",
      "35 \n",
      "36 whiz bang\n",
      "37 \n",
      "38 whiz \n",
      "39 bang\n",
      "40 whiz \n",
      "41 \n",
      "42 whiz bang\n",
      "43 \n",
      "44 whiz \n",
      "45 bang\n",
      "46 whiz \n",
      "47 \n",
      "48 whiz bang\n",
      "49 \n",
      "50 whiz \n",
      "51 bang\n",
      "52 whiz \n",
      "53 \n",
      "54 whiz bang\n",
      "55 \n",
      "56 whiz \n",
      "57 bang\n",
      "58 whiz \n",
      "59 \n",
      "60 whiz bang\n",
      "61 \n",
      "62 whiz \n",
      "63 bang\n",
      "64 whiz \n",
      "65 \n",
      "66 whiz bang\n",
      "67 \n",
      "68 whiz \n",
      "69 bang\n",
      "70 whiz \n",
      "71 \n",
      "72 whiz bang\n",
      "73 \n",
      "74 whiz \n",
      "75 bang\n",
      "76 whiz \n",
      "77 \n",
      "78 whiz bang\n",
      "79 \n",
      "80 whiz \n",
      "81 bang\n",
      "82 whiz \n",
      "83 \n",
      "84 whiz bang\n",
      "85 \n",
      "86 whiz \n",
      "87 bang\n",
      "88 whiz \n",
      "89 \n",
      "90 whiz bang\n",
      "91 \n",
      "92 whiz \n",
      "93 bang\n",
      "94 whiz \n",
      "95 \n",
      "96 whiz bang\n",
      "97 \n",
      "98 whiz \n",
      "99 bang\n",
      "100 whiz \n"
     ]
    }
   ],
   "source": [
    "def whiz_bang():\n",
    "    for i in range(1,101):\n",
    "        y = \"\"\n",
    "        if(i%2==0):\n",
    "            y += \"whiz \"\n",
    "        if(i%3==0):\n",
    "            y += \"bang\"\n",
    "            \n",
    "        x = \"{} {}\".format(i,y)\n",
    "        print (x)\n",
    "        \n",
    "whiz_bang()"
   ]
  }
 ],
 "metadata": {
  "kernelspec": {
   "display_name": "Python 3",
   "language": "python",
   "name": "python3"
  },
  "language_info": {
   "codemirror_mode": {
    "name": "ipython",
    "version": 3
   },
   "file_extension": ".py",
   "mimetype": "text/x-python",
   "name": "python",
   "nbconvert_exporter": "python",
   "pygments_lexer": "ipython3",
   "version": "3.7.3"
  }
 },
 "nbformat": 4,
 "nbformat_minor": 2
}
