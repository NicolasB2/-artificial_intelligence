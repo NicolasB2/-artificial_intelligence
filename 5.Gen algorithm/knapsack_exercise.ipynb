{
 "cells": [
  {
   "cell_type": "markdown",
   "metadata": {
    "colab_type": "text",
    "id": "Z77R-epE0yaH"
   },
   "source": [
    "# Knapsack problem\n",
    "\n",
    "Given a list of items and a bag maximum capacity, find the best combination of items.\n",
    "\n",
    "The algorithm to complete:"
   ]
  },
  {
   "cell_type": "code",
   "execution_count": 14,
   "metadata": {
    "colab": {},
    "colab_type": "code",
    "id": "Iqigakkn0hXE"
   },
   "outputs": [],
   "source": [
    "import random\n",
    "import math\n",
    "\n",
    "class KnapsackGenetic:\n",
    "    def __init__(self, params):\n",
    "        self.ALL_NUMBERS = list(range(params[\"max_per_item\"] + 1))\n",
    "        self.params = params\n",
    "        self.specimen = [None] * self.params[\"generation_size\"]\n",
    "\n",
    "        self.create_initial_population()\n",
    "    \n",
    "    def create_initial_population(self):\n",
    "        self.specimen = list(map(\n",
    "            lambda _: list(map(\n",
    "                lambda _: random.choice(list(range(2))),\n",
    "                [None] * len(self.params[\"items\"])\n",
    "            )),\n",
    "            self.specimen\n",
    "        ))\n",
    "\n",
    "    def fitness(self, specimen):\n",
    "        a = zip(specimen,params[\"items\"],specimen)\n",
    "        return sum(map(lambda x: x[0]*x[1].value,a)) if sum(map(lambda x: x[0]*x[1].weight,a))<= params[\"max_weight\"] else 0\n",
    "     \n",
    "\n",
    "    def is_converged(self):\n",
    "        if any(self.fitness(specimen) >= self.params[\"fit_threshold\"] for specimen in self.specimen):\n",
    "            return True\n",
    "        return False\n",
    "\n",
    "    def get_fit(self):\n",
    "        evaluations = self.fitness_all()\n",
    "\n",
    "        max_evaluation = max(evaluations)\n",
    "\n",
    "        max_index = evaluations.index(max_evaluation)\n",
    "\n",
    "        return self.specimen[max_index], max_evaluation\n",
    "\n",
    "    def fitness_all(self):\n",
    "        return list(map(self.fitness, self.specimen))\n",
    "\n",
    "    def select_specimen(self, specimen_evaluations):\n",
    "        specimen_and_evaluations = list(zip(self.specimen, specimen_evaluations))\n",
    "\n",
    "        specimen_and_evaluations.sort(key=lambda e: e[1], reverse = True)\n",
    "\n",
    "        n_top = int(math.ceil(len(self.specimen) * params[\"select_top\"]))\n",
    "\n",
    "        return list(map(lambda s: s[0], specimen_and_evaluations[:n_top]))\n",
    "\n",
    "    def mutate(self, specimen):\n",
    "        \n",
    "\n",
    "    def generate_children(self, selected_specimen):  \n",
    "        mutated_specimen = [None] * len(self.specimen)\n",
    "\n",
    "        for i in range(len(mutated_specimen)):\n",
    "            mutated_specimen[i] = self.mutate(random.choice(selected_specimen))\n",
    "\n",
    "        return mutated_specimen\n",
    "\n",
    "    def run(self):\n",
    "        generation_number = 1\n",
    "\n",
    "        while generation_number <= self.params[\"max_generations\"] and not self.is_converged():\n",
    "            top_generation = self.get_fit()\n",
    "            top_str = \"\".join(str(top_generation[0]))\n",
    "\n",
    "            print(f\"Generation #{generation_number}:\\t{top_str}\\t{top_generation[1]}\")\n",
    "\n",
    "            specimen_evaluations = self.fitness_all()\n",
    "            selected_specimen = self.select_specimen(specimen_evaluations)\n",
    "\n",
    "            self.specimen = self.generate_children(selected_specimen)\n",
    "\n",
    "            generation_number += 1\n",
    "            return self.get_fit()"
   ]
  },
  {
   "cell_type": "markdown",
   "metadata": {
    "colab_type": "text",
    "id": "hnHAziSc1ChK"
   },
   "source": [
    "To run the algorithm:"
   ]
  },
  {
   "cell_type": "code",
   "execution_count": 16,
   "metadata": {
    "colab": {
     "base_uri": "https://localhost:8080/",
     "height": 349
    },
    "colab_type": "code",
    "id": "_ssF5Z6S1FQ6",
    "outputId": "6e48c80f-4ed7-49f3-e872-150e3198fab0"
   },
   "outputs": [
    {
     "name": "stdout",
     "output_type": "stream",
     "text": [
      "Generation #1:\t[1, 1, 0, 0, 1]\t0\n"
     ]
    },
    {
     "ename": "IndexError",
     "evalue": "Cannot choose from an empty sequence",
     "output_type": "error",
     "traceback": [
      "\u001b[1;31m---------------------------------------------------------------------------\u001b[0m",
      "\u001b[1;31mIndexError\u001b[0m                                Traceback (most recent call last)",
      "\u001b[1;32m<ipython-input-16-0f28fdbfd3fe>\u001b[0m in \u001b[0;36m<module>\u001b[1;34m\u001b[0m\n\u001b[0;32m     16\u001b[0m \u001b[1;33m\u001b[0m\u001b[0m\n\u001b[0;32m     17\u001b[0m \u001b[0mknapsack\u001b[0m \u001b[1;33m=\u001b[0m \u001b[0mKnapsackGenetic\u001b[0m\u001b[1;33m(\u001b[0m\u001b[0mparams\u001b[0m\u001b[1;33m)\u001b[0m\u001b[1;33m\u001b[0m\u001b[1;33m\u001b[0m\u001b[0m\n\u001b[1;32m---> 18\u001b[1;33m \u001b[0mknapsack\u001b[0m\u001b[1;33m.\u001b[0m\u001b[0mrun\u001b[0m\u001b[1;33m(\u001b[0m\u001b[1;33m)\u001b[0m\u001b[1;33m\u001b[0m\u001b[1;33m\u001b[0m\u001b[0m\n\u001b[0m",
      "\u001b[1;32m<ipython-input-14-f58d2bd3c4fb>\u001b[0m in \u001b[0;36mrun\u001b[1;34m(self)\u001b[0m\n\u001b[0;32m     75\u001b[0m             \u001b[0mselected_specimen\u001b[0m \u001b[1;33m=\u001b[0m \u001b[0mself\u001b[0m\u001b[1;33m.\u001b[0m\u001b[0mselect_specimen\u001b[0m\u001b[1;33m(\u001b[0m\u001b[0mspecimen_evaluations\u001b[0m\u001b[1;33m)\u001b[0m\u001b[1;33m\u001b[0m\u001b[1;33m\u001b[0m\u001b[0m\n\u001b[0;32m     76\u001b[0m \u001b[1;33m\u001b[0m\u001b[0m\n\u001b[1;32m---> 77\u001b[1;33m             \u001b[0mself\u001b[0m\u001b[1;33m.\u001b[0m\u001b[0mspecimen\u001b[0m \u001b[1;33m=\u001b[0m \u001b[0mself\u001b[0m\u001b[1;33m.\u001b[0m\u001b[0mgenerate_children\u001b[0m\u001b[1;33m(\u001b[0m\u001b[0mselected_specimen\u001b[0m\u001b[1;33m)\u001b[0m\u001b[1;33m\u001b[0m\u001b[1;33m\u001b[0m\u001b[0m\n\u001b[0m\u001b[0;32m     78\u001b[0m \u001b[1;33m\u001b[0m\u001b[0m\n\u001b[0;32m     79\u001b[0m             \u001b[0mgeneration_number\u001b[0m \u001b[1;33m+=\u001b[0m \u001b[1;36m1\u001b[0m\u001b[1;33m\u001b[0m\u001b[1;33m\u001b[0m\u001b[0m\n",
      "\u001b[1;32m<ipython-input-14-f58d2bd3c4fb>\u001b[0m in \u001b[0;36mgenerate_children\u001b[1;34m(self, selected_specimen)\u001b[0m\n\u001b[0;32m     59\u001b[0m \u001b[1;33m\u001b[0m\u001b[0m\n\u001b[0;32m     60\u001b[0m         \u001b[1;32mfor\u001b[0m \u001b[0mi\u001b[0m \u001b[1;32min\u001b[0m \u001b[0mrange\u001b[0m\u001b[1;33m(\u001b[0m\u001b[0mlen\u001b[0m\u001b[1;33m(\u001b[0m\u001b[0mmutated_specimen\u001b[0m\u001b[1;33m)\u001b[0m\u001b[1;33m)\u001b[0m\u001b[1;33m:\u001b[0m\u001b[1;33m\u001b[0m\u001b[1;33m\u001b[0m\u001b[0m\n\u001b[1;32m---> 61\u001b[1;33m             \u001b[0mmutated_specimen\u001b[0m\u001b[1;33m[\u001b[0m\u001b[0mi\u001b[0m\u001b[1;33m]\u001b[0m \u001b[1;33m=\u001b[0m \u001b[0mself\u001b[0m\u001b[1;33m.\u001b[0m\u001b[0mmutate\u001b[0m\u001b[1;33m(\u001b[0m\u001b[0mrandom\u001b[0m\u001b[1;33m.\u001b[0m\u001b[0mchoice\u001b[0m\u001b[1;33m(\u001b[0m\u001b[0mselected_specimen\u001b[0m\u001b[1;33m)\u001b[0m\u001b[1;33m)\u001b[0m\u001b[1;33m\u001b[0m\u001b[1;33m\u001b[0m\u001b[0m\n\u001b[0m\u001b[0;32m     62\u001b[0m \u001b[1;33m\u001b[0m\u001b[0m\n\u001b[0;32m     63\u001b[0m         \u001b[1;32mreturn\u001b[0m \u001b[0mmutated_specimen\u001b[0m\u001b[1;33m\u001b[0m\u001b[1;33m\u001b[0m\u001b[0m\n",
      "\u001b[1;32m~\\Anaconda3\\lib\\random.py\u001b[0m in \u001b[0;36mchoice\u001b[1;34m(self, seq)\u001b[0m\n\u001b[0;32m    259\u001b[0m             \u001b[0mi\u001b[0m \u001b[1;33m=\u001b[0m \u001b[0mself\u001b[0m\u001b[1;33m.\u001b[0m\u001b[0m_randbelow\u001b[0m\u001b[1;33m(\u001b[0m\u001b[0mlen\u001b[0m\u001b[1;33m(\u001b[0m\u001b[0mseq\u001b[0m\u001b[1;33m)\u001b[0m\u001b[1;33m)\u001b[0m\u001b[1;33m\u001b[0m\u001b[1;33m\u001b[0m\u001b[0m\n\u001b[0;32m    260\u001b[0m         \u001b[1;32mexcept\u001b[0m \u001b[0mValueError\u001b[0m\u001b[1;33m:\u001b[0m\u001b[1;33m\u001b[0m\u001b[1;33m\u001b[0m\u001b[0m\n\u001b[1;32m--> 261\u001b[1;33m             \u001b[1;32mraise\u001b[0m \u001b[0mIndexError\u001b[0m\u001b[1;33m(\u001b[0m\u001b[1;34m'Cannot choose from an empty sequence'\u001b[0m\u001b[1;33m)\u001b[0m \u001b[1;32mfrom\u001b[0m \u001b[1;32mNone\u001b[0m\u001b[1;33m\u001b[0m\u001b[1;33m\u001b[0m\u001b[0m\n\u001b[0m\u001b[0;32m    262\u001b[0m         \u001b[1;32mreturn\u001b[0m \u001b[0mseq\u001b[0m\u001b[1;33m[\u001b[0m\u001b[0mi\u001b[0m\u001b[1;33m]\u001b[0m\u001b[1;33m\u001b[0m\u001b[1;33m\u001b[0m\u001b[0m\n\u001b[0;32m    263\u001b[0m \u001b[1;33m\u001b[0m\u001b[0m\n",
      "\u001b[1;31mIndexError\u001b[0m: Cannot choose from an empty sequence"
     ]
    }
   ],
   "source": [
    "class Item:\n",
    "    def __init__(self, value, weight):\n",
    "        self.value = value\n",
    "        self.weight = weight\n",
    "\n",
    "params = {\n",
    "    \"mutation_percentage\": 0.5,\n",
    "    \"select_top\": 0,\n",
    "    \"generation_size\": 20,\n",
    "    \"fit_threshold\": 0.1,\n",
    "    \"max_generations\": 3,\n",
    "    \"max_weight\": 10,\n",
    "    \"max_per_item\": 5,\n",
    "    \"items\": [Item(4, 12), Item(2, 2), Item(2, 1), Item(1, 1), Item(10,4)]\n",
    "}\n",
    "\n",
    "knapsack = KnapsackGenetic(params)\n",
    "knapsack.run()\n"
   ]
  }
 ],
 "metadata": {
  "colab": {
   "collapsed_sections": [],
   "name": "knapsack-exercise.ipynb",
   "provenance": []
  },
  "kernelspec": {
   "display_name": "Python 3",
   "language": "python",
   "name": "python3"
  },
  "language_info": {
   "codemirror_mode": {
    "name": "ipython",
    "version": 3
   },
   "file_extension": ".py",
   "mimetype": "text/x-python",
   "name": "python",
   "nbconvert_exporter": "python",
   "pygments_lexer": "ipython3",
   "version": "3.7.3"
  }
 },
 "nbformat": 4,
 "nbformat_minor": 1
}
