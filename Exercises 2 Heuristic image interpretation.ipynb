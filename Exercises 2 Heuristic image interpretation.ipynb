{
 "cells": [
  {
   "cell_type": "markdown",
   "metadata": {},
   "source": [
    "# MNIST (dígitos) solución tradicional\n",
    "\n",
    "__Integrantes:__\n",
    "\n",
    "+ Nombre: Nicolas Biojo Bermeo\n",
    "+ Nombre: David Erazo Ochoa\n",
    "\n",
    "__Números asignados:__\n"
   ]
  },
  {
   "cell_type": "markdown",
   "metadata": {},
   "source": [
    "## Taller \n",
    "\n",
    "_Suponga que trabajan para el desarrollo de un sistema de lectura y reconocimiento de dígitos. Para este trabajo le han proporcionado un conjunto de fotos en grises con el fin que proponga una solución de programación tradicional, es decir, sin el uso de la inteligencia artificial. El software que proponga debe tener la capacidad de determinar con una precisión una muestra de los datos que le han suministrado_\n",
    "\n",
    "Durante la clase se le proporcionaran dos números para trabajar:\n",
    "+ 1 y 5\n",
    "+ 8 y 2\n",
    "+ 9 y 7\n",
    "+ 0 y 3\n",
    "+ 4 y 6\n",
    "\n",
    "**Evaluación del método**\n",
    "\n",
    "Seleccione aleatoriamente una muestra de 30% de los datos, en donde se incluya un balance entre los dígitos asignados (despliéguelo y evidencie las cantidades).\n",
    "\n",
    "Utilice la muestra obtenida y evalué el software (proceso o métodos) que ha propuesto, es decir, a cuantos números acertó (VP) contra los que no acertó (FP), calcule los siguientes datos:\n",
    "\n",
    "```\n",
    "Para el primer número\n",
    "\n",
    "Reales =  número de datos\n",
    "\n",
    "Estimados = cantidad de dígitos estimados correctamente \n",
    "\n",
    "Para el segundo número\n",
    "\n",
    "Reales =  número de datos\n",
    "\n",
    "Estimados = cantidad de dígitos estimados correctamente\n",
    "```\n",
    "_Para todos los números que le corresponden_\n",
    "\n",
    "$ Precision = \\frac{VP}{VP+FP}$\n",
    "\n",
    "\n",
    "Finalmente, despliegue el tiempo que tomo todo el proceso de evaluación."
   ]
  },
  {
   "cell_type": "markdown",
   "metadata": {
    "heading_collapsed": true
   },
   "source": [
    "#### Entregas\n",
    "\n",
    "+ Prepare una presentación donde muestre los resultados\n",
    "+ Envié por un correo electrónico este archivo ipynb con la solución y resultados conseguidos\n"
   ]
  },
  {
   "cell_type": "markdown",
   "metadata": {},
   "source": [
    "#### Paquetes"
   ]
  },
  {
   "cell_type": "code",
   "execution_count": 12,
   "metadata": {},
   "outputs": [],
   "source": [
    "from sklearn.datasets import load_digits\n",
    "import pylab as pl\n",
    "import sklearn"
   ]
  },
  {
   "cell_type": "code",
   "execution_count": 13,
   "metadata": {},
   "outputs": [
    {
     "data": {
      "text/plain": [
       "sklearn.utils.Bunch"
      ]
     },
     "execution_count": 13,
     "metadata": {},
     "output_type": "execute_result"
    }
   ],
   "source": [
    "# cargamos los datos y desplegamos el objeto\n",
    "digits = load_digits()\n",
    "type(digits)"
   ]
  },
  {
   "cell_type": "code",
   "execution_count": 3,
   "metadata": {},
   "outputs": [],
   "source": [
    "# observe las propieades del objeto, ¿a que tipo se le parece?\n",
    "?sklearn.utils.Bunch"
   ]
  },
  {
   "cell_type": "code",
   "execution_count": 14,
   "metadata": {},
   "outputs": [
    {
     "name": "stdout",
     "output_type": "stream",
     "text": [
      "Se tienen en total: 1797 imágenes\n",
      "[[ 0.  0.  0.  5. 14. 12.  2.  0.]\n",
      " [ 0.  0.  7. 15.  8. 14.  4.  0.]\n",
      " [ 0.  0.  6.  2.  3. 13.  1.  0.]\n",
      " [ 0.  0.  0.  1. 13.  4.  0.  0.]\n",
      " [ 0.  0.  1. 11.  9.  0.  0.  0.]\n",
      " [ 0.  8. 16. 13.  0.  0.  0.  0.]\n",
      " [ 0.  5. 14. 16. 11.  2.  0.  0.]\n",
      " [ 0.  0.  0.  6. 12. 13.  3.  0.]]\n"
     ]
    },
    {
     "data": {
      "text/plain": [
       "<Figure size 432x288 with 0 Axes>"
      ]
     },
     "metadata": {},
     "output_type": "display_data"
    },
    {
     "data": {
      "image/png": "[encoded data removed]",
      "text/plain": [
       "<Figure size 288x288 with 1 Axes>"
      ]
     },
     "metadata": {
      "needs_background": "light"
     },
     "output_type": "display_data"
    }
   ],
   "source": [
    "pl.gray() # Queremos las imágenes en grises\n",
    "pl.matshow(digits.images[50]) # Imprimir una imagen dada\n",
    "numImagenes = len(digits.images) # Numero de imagenes, len es un método que provee el tamaño del arreglo\n",
    "print(\"Se tienen en total:\", numImagenes, \"imágenes\")\n",
    "print(digits.images[50]) # Ver su representación en pixeles"
   ]
  },
  {
   "cell_type": "markdown",
   "metadata": {},
   "source": [
    "Observe cada atributo del objeto digits, recorra cada imagen y obtenga su representación (_target_)"
   ]
  },
  {
   "cell_type": "markdown",
   "metadata": {
    "heading_collapsed": true
   },
   "source": [
    "#### Solución"
   ]
  },
  {
   "cell_type": "code",
   "execution_count": 8,
   "metadata": {},
   "outputs": [
    {
     "name": "stdout",
     "output_type": "stream",
     "text": [
      "[[ 0.  0.  0.  0. 11. 12.  0.  0.]\n",
      " [ 0.  0.  0.  3. 15. 14.  0.  0.]\n",
      " [ 0.  0.  0. 11. 16. 11.  0.  0.]\n",
      " [ 0.  0.  9. 16. 16. 10.  0.  0.]\n",
      " [ 0.  4. 16. 12. 16. 12.  0.  0.]\n",
      " [ 0.  3. 10.  3. 16. 11.  0.  0.]\n",
      " [ 0.  0.  0.  0. 16. 14.  0.  0.]\n",
      " [ 0.  0.  0.  0. 11. 11.  0.  0.]]\n",
      "1\n"
     ]
    },
    {
     "data": {
      "image/png": "[encoded data removed]",
      "text/plain": [
       "<Figure size 288x288 with 1 Axes>"
      ]
     },
     "metadata": {
      "needs_background": "light"
     },
     "output_type": "display_data"
    }
   ],
   "source": [
    "pl.matshow(digits.images[200]) # draw\n",
    "print(digits.images[200]) # matrix\n",
    "print(digits.target[200]) #real number"
   ]
  },
  {
   "cell_type": "code",
   "execution_count": 17,
   "metadata": {},
   "outputs": [
    {
     "name": "stdout",
     "output_type": "stream",
     "text": [
      "[4, 14, 24, 41, 64, 68, 87, 97, 100, 110, 111, 121, 124, 134, 144, 154, 171, 194, 198, 225, 228, 238, 239, 247, 250, 260, 270, 280, 297, 320, 324, 343, 353, 356, 366, 367, 377, 380, 390, 400, 410, 427, 450, 454, 473, 483, 486, 496, 497, 507, 510, 520, 530, 540, 557, 580, 584, 603, 613, 616, 626, 627, 637, 640, 650, 660, 670, 687, 710, 714, 733, 743, 746, 756, 757, 767, 770, 780, 790, 800, 817, 840, 844, 863, 873, 876, 886, 887, 897, 900, 909, 919, 929, 946, 966, 970, 988, 998, 1001, 1011, 1012, 1022, 1023, 1033, 1043, 1053, 1070, 1091, 1095, 1114, 1124, 1127, 1137, 1138, 1148, 1151, 1161, 1171, 1181, 1198, 1221, 1225, 1244, 1254, 1257, 1267, 1268, 1278, 1281, 1291, 1301, 1311, 1328, 1351, 1355, 1374, 1384, 1387, 1397, 1398, 1408, 1411, 1419, 1429, 1439, 1456, 1479, 1483, 1502, 1512, 1515, 1525, 1526, 1536, 1539, 1549, 1559, 1567, 1584, 1607, 1611, 1628, 1638, 1641, 1651, 1652, 1660, 1661, 1671, 1681, 1691, 1708, 1731, 1735, 1754, 1764, 1767, 1777, 1778, 1788, 1791]\n",
      "\n",
      "[6, 16, 26, 34, 58, 65, 66, 67, 82, 88, 95, 104, 106, 136, 146, 156, 164, 188, 195, 196, 197, 212, 223, 232, 234, 262, 272, 282, 290, 314, 321, 322, 323, 338, 344, 351, 360, 362, 392, 402, 412, 420, 444, 451, 452, 453, 468, 474, 481, 490, 492, 522, 532, 542, 550, 574, 581, 582, 583, 598, 604, 611, 620, 622, 652, 662, 672, 680, 704, 711, 712, 713, 728, 734, 741, 750, 752, 782, 792, 802, 810, 834, 841, 842, 843, 858, 864, 871, 880, 882, 911, 921, 931, 939, 960, 967, 968, 969, 984, 989, 996, 1005, 1007, 1035, 1045, 1055, 1063, 1085, 1092, 1093, 1094, 1109, 1115, 1122, 1131, 1133, 1163, 1173, 1183, 1191, 1215, 1222, 1223, 1224, 1239, 1245, 1252, 1261, 1263, 1293, 1303, 1313, 1321, 1345, 1352, 1353, 1354, 1369, 1375, 1382, 1391, 1393, 1421, 1431, 1441, 1449, 1473, 1480, 1481, 1482, 1497, 1503, 1510, 1519, 1521, 1551, 1561, 1569, 1577, 1601, 1608, 1609, 1610, 1623, 1629, 1636, 1645, 1647, 1673, 1683, 1693, 1701, 1725, 1732, 1733, 1734, 1749, 1755, 1762, 1771, 1773]\n"
     ]
    }
   ],
   "source": [
    "dta4 = [] #set of numbers 4\n",
    "dta6 = [] #set of numbers 6\n",
    "\n",
    "def targets(v,num): #function in which full a list with positions of determinate number\n",
    "    for i in range(len(digits.images)):\n",
    "        if(digits.target[i]==num):\n",
    "            v.append(i)\n",
    "            \n",
    "targets(dta4,4)\n",
    "targets(dta6,6)\n",
    "            \n",
    "print(dta4)\n",
    "print()\n",
    "print(dta6)"
   ]
  },
  {
   "cell_type": "code",
   "execution_count": 247,
   "metadata": {},
   "outputs": [],
   "source": [
    "average = [ [0 for col in range(8)] for raw in range (8)]\n",
    "minM = [ [16 for col in range(8)] for raw in range (8)]\n",
    "maxM = [ [-1 for col in range(8)] for raw in range (8)]\n",
    "\n",
    "def pop_matrix(dta): # function in which three types of matrix (average, min and max) are filled\n",
    "\n",
    "    flag = True\n",
    "    minimum = 16\n",
    "    \n",
    "    \n",
    "    for i in range(8):\n",
    "        for j in range(8):\n",
    "            count = 0;\n",
    "            count1 = 0;\n",
    "            for k in dta:\n",
    "                average[i][j] += digits.images[k][i][j]\n",
    "                if digits.images[k][i][j]==0:\n",
    "                    count = count +1\n",
    "                if digits.images[k][i][j]==1:\n",
    "                    count1 = count1 +1\n",
    "                if minM[i][j] > digits.images[k][i][j] and digits.images[k][i][j]>1:\n",
    "                    minM[i][j] = int(digits.images[k][i][j])     \n",
    "                if maxM[i][j] < digits.images[k][i][j]:\n",
    "                    maxM[i][j] = int(digits.images[k][i][j])\n",
    "            \n",
    "            if(count >= (len(dta)*0.3)):\n",
    "                minM[i][j] = 0\n",
    "                \n",
    "            if(count1 >= (len(dta)*0.3)):\n",
    "                minM[i][j] = 1\n",
    "            \n",
    "    for i in range(8):\n",
    "        for j in range(8):\n",
    "            average[i][j] = int(average[i][j]/len(dta))\n"
   ]
  },
  {
   "cell_type": "code",
   "execution_count": 246,
   "metadata": {},
   "outputs": [],
   "source": [
    "def compare(image): # function that compares a number with the previous matrices\n",
    "    for i in range(8):\n",
    "        for j in range(8):\n",
    "            dispersionMax = maxM[i][j] - average[i][j]\n",
    "            dispersionMin = average[i][j] - minM[i][j]\n",
    "            \n",
    "            if image[i][j]>(average[i][j]+dispersionMax) or image[i][j]<(minM[i][j]-dispersionMin):\n",
    "                return \"No\"\n",
    "    return \"yes\""
   ]
  },
  {
   "cell_type": "code",
   "execution_count": 248,
   "metadata": {},
   "outputs": [
    {
     "name": "stdout",
     "output_type": "stream",
     "text": [
      "[0, 0, 0, 2, 2, 0, 0, 0]\n",
      "[0, 0, 0, 3, 2, 0, 0, 0]\n",
      "[0, 0, 2, 2, 2, 2, 0, 0]\n",
      "[0, 2, 2, 2, 2, 2, 2, 0]\n",
      "[0, 2, 4, 2, 2, 4, 2, 0]\n",
      "[0, 2, 2, 3, 3, 2, 0, 0]\n",
      "[0, 0, 0, 2, 2, 0, 0, 0]\n",
      "[0, 0, 0, 2, 2, 0, 0, 0]\n",
      "\n",
      "[0, 0, 11, 16, 16, 15, 11, 14]\n",
      "[0, 5, 16, 16, 16, 16, 16, 11]\n",
      "[0, 14, 16, 16, 16, 16, 16, 8]\n",
      "[1, 15, 16, 16, 16, 16, 15, 1]\n",
      "[0, 14, 16, 16, 16, 16, 12, 0]\n",
      "[4, 16, 16, 16, 16, 16, 11, 0]\n",
      "[8, 16, 16, 16, 16, 16, 1, 0]\n",
      "[0, 3, 13, 16, 16, 12, 0, 0]\n",
      "\n",
      "[0, 0, 0, 7, 11, 2, 0, 0]\n",
      "[0, 0, 3, 13, 8, 2, 1, 0]\n",
      "[0, 0, 10, 11, 4, 5, 3, 0]\n",
      "[0, 4, 14, 6, 7, 10, 6, 0]\n",
      "[0, 8, 14, 9, 13, 13, 5, 0]\n",
      "[0, 6, 11, 12, 14, 10, 1, 0]\n",
      "[0, 1, 2, 7, 13, 4, 0, 0]\n",
      "[0, 0, 0, 7, 11, 1, 0, 0]\n"
     ]
    }
   ],
   "source": [
    "pop_matrix(dta4)\n",
    "\n",
    "for i in range(8):\n",
    "            print (minM[i])\n",
    "print()\n",
    "for i in range(8):\n",
    "            print (maxM[i]) \n",
    "print()\n",
    "for i in range(8):\n",
    "            print (average[i]) "
   ]
  },
  {
   "cell_type": "code",
   "execution_count": 253,
   "metadata": {},
   "outputs": [
    {
     "name": "stdout",
     "output_type": "stream",
     "text": [
      "No\n",
      "No\n",
      "No\n",
      "No\n",
      "No\n",
      "No\n",
      "No\n",
      "No\n",
      "No\n",
      "No\n",
      "No\n",
      "yes\n",
      "No\n",
      "No\n",
      "No\n",
      "No\n",
      "No\n",
      "No\n",
      "No\n",
      "No\n",
      "No\n",
      "No\n",
      "No\n",
      "No\n",
      "No\n",
      "No\n",
      "No\n",
      "No\n",
      "No\n",
      "No\n",
      "No\n",
      "No\n",
      "No\n",
      "No\n",
      "No\n",
      "No\n",
      "No\n",
      "No\n",
      "No\n",
      "No\n",
      "No\n",
      "No\n",
      "No\n",
      "No\n",
      "No\n",
      "No\n",
      "No\n",
      "No\n",
      "No\n",
      "No\n",
      "yes\n",
      "No\n",
      "No\n",
      "No\n",
      "No\n",
      "No\n",
      "No\n",
      "No\n",
      "No\n",
      "yes\n",
      "yes\n",
      "No\n",
      "No\n",
      "No\n",
      "No\n",
      "No\n",
      "No\n",
      "No\n",
      "No\n",
      "No\n",
      "No\n",
      "No\n",
      "No\n",
      "No\n",
      "No\n",
      "No\n",
      "No\n",
      "No\n",
      "yes\n",
      "No\n",
      "No\n",
      "No\n",
      "No\n",
      "No\n",
      "No\n",
      "No\n",
      "No\n",
      "No\n",
      "No\n",
      "No\n",
      "No\n",
      "No\n",
      "No\n",
      "No\n",
      "No\n",
      "No\n",
      "No\n",
      "No\n",
      "No\n",
      "No\n",
      "No\n",
      "No\n",
      "No\n",
      "No\n",
      "No\n",
      "No\n",
      "No\n",
      "No\n",
      "No\n",
      "No\n",
      "No\n",
      "No\n",
      "No\n",
      "No\n",
      "No\n",
      "No\n",
      "No\n",
      "No\n",
      "No\n",
      "No\n",
      "No\n",
      "No\n",
      "No\n",
      "No\n",
      "No\n",
      "No\n",
      "No\n",
      "No\n",
      "No\n",
      "No\n",
      "No\n",
      "No\n",
      "No\n",
      "No\n",
      "No\n",
      "No\n",
      "No\n",
      "No\n",
      "No\n",
      "No\n",
      "No\n",
      "No\n",
      "No\n",
      "No\n",
      "No\n",
      "No\n",
      "No\n",
      "No\n",
      "No\n",
      "No\n",
      "No\n",
      "No\n",
      "No\n",
      "No\n",
      "No\n",
      "No\n",
      "No\n",
      "No\n",
      "No\n",
      "No\n",
      "No\n",
      "No\n",
      "No\n",
      "No\n",
      "No\n",
      "No\n",
      "yes\n",
      "yes\n",
      "No\n",
      "No\n",
      "No\n",
      "No\n",
      "No\n",
      "No\n",
      "No\n",
      "No\n",
      "No\n",
      "No\n",
      "No\n",
      "No\n",
      "No\n"
     ]
    }
   ],
   "source": [
    "for k in dta6:\n",
    "    print (compare(digits.images[k]))"
   ]
  }
 ],
 "metadata": {
  "kernelspec": {
   "display_name": "Python 3",
   "language": "python",
   "name": "python3"
  },
  "language_info": {
   "codemirror_mode": {
    "name": "ipython",
    "version": 3
   },
   "file_extension": ".py",
   "mimetype": "text/x-python",
   "name": "python",
   "nbconvert_exporter": "python",
   "pygments_lexer": "ipython3",
   "version": "3.7.3"
  }
 },
 "nbformat": 4,
 "nbformat_minor": 2
}
